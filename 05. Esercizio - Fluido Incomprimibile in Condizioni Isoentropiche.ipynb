{
 "cells": [
  {
   "cell_type": "code",
   "execution_count": 1,
   "metadata": {
    "slideshow": {
     "slide_type": "skip"
    }
   },
   "outputs": [],
   "source": [
    "%load_ext autoreload\n",
    "%autoreload 2"
   ]
  },
  {
   "cell_type": "markdown",
   "metadata": {
    "slideshow": {
     "slide_type": "subslide"
    }
   },
   "source": [
    "## Esercizio: Gas Isoentropico\n",
    "\n",
    "**In un fluido incomprimibile isoentropico all'equilibrio...**\n",
    "\n",
    "...Pressione e temperature si distribuiscono secondo le equazioni:\n",
    "\n",
    "$$\\begin{align}\n",
    "& p = p_0 \\left( 1 + \\left(1 - \\frac{1}{\\gamma}\\right) \\frac{M}{R T_0} g (z_0 - z) \\right)^{\\frac{\\gamma}{\\gamma - 1} } \\\\\n",
    "& T = T_0 \\left( 1 + \\left(1 - \\frac{1}{\\gamma}\\right) \\frac{M}{R T_0} g (z_0 - z) \\right)\n",
    "\\end{align}$$\n",
    "\n",
    "* $p, T$ sono la pressione e temperatura a quota $z$\n",
    "* $p_0, T_0$ sono la pressione e temperatura a quota $z_0$\n",
    "* $R$ è la costante dei gas perfetti\n",
    "* $M$ è la massa del gas\n",
    "* $\\gamma$ è un parametro che caratterizza il gas"
   ]
  },
  {
   "cell_type": "markdown",
   "metadata": {
    "slideshow": {
     "slide_type": "subslide"
    }
   },
   "source": [
    "**Se sono noti $p_0, T_0, \\gamma, M, z_0-z$, determinare $P$ e $T$ è facile:**\n",
    "\n",
    "* Perché le due equazioni sono _esplicite_ in $p$ e $T$\n",
    "* Vale a dire: $p$ e $T$ _compaiono da sole a sx dell'uguale_\n",
    "\n",
    "**Supponiamo invece di disporre di $p, T, p_0, T_0$ e $z_0 - z$**\n",
    "\n",
    "* A partire dai dati noti (e.g. misurati con qualche strumento)...\n",
    "* ...Vogliamo determinare le caratteristiche del gas (i.e $\\gamma$ e $M$)\n",
    "* Le due equazioni date sono _implicite_ in $\\gamma$ e $M$...\n",
    "* ...Perché $\\gamma$ e $M$ non possono essere isolate a sx del segno \"=\""
   ]
  },
  {
   "cell_type": "markdown",
   "metadata": {
    "slideshow": {
     "slide_type": "subslide"
    }
   },
   "source": [
    "**Dobbiamo _risolvere un sistema di due equazioni non lineari_:**\n",
    "\n",
    "$$\\begin{align}\n",
    "p - p_0 \\left( 1 + \\left(1 - \\frac{1}{\\gamma}\\right) \\frac{M}{R T_0} g (z_0 - z) \\right)^{\\frac{\\gamma}{\\gamma - 1} } &= 0\\\\\n",
    "T - T_0 \\left( 1 + \\left(1 - \\frac{1}{\\gamma}\\right) \\frac{M}{R T_0} g (z_0 - z) \\right) &= 0\n",
    "\\end{align}$$\n",
    "\n",
    "* Il problema dovrà essere risolto per via numerica\n",
    "* ...Ma procediamo un passo alla volta!"
   ]
  },
  {
   "cell_type": "markdown",
   "metadata": {
    "slideshow": {
     "slide_type": "subslide"
    }
   },
   "source": [
    "## Dati del Problema\n",
    "\n",
    "**Prima di tutto si carichino i dati del problema eseguendo la cella seguente:**"
   ]
  },
  {
   "cell_type": "code",
   "execution_count": 4,
   "metadata": {},
   "outputs": [],
   "source": [
    "# Dati del problem\n",
    "g = 9.81\n",
    "R = 8.31\n",
    "p0 = 1\n",
    "T0 = 295\n",
    "z0z = -10\n",
    "T = 257.7\n",
    "p = 0.65"
   ]
  },
  {
   "cell_type": "markdown",
   "metadata": {
    "slideshow": {
     "slide_type": "subslide"
    }
   },
   "source": [
    "## Funzione da Azzerare\n",
    "\n",
    "**Nel modulo `sol.isoentropic` si definisca la classe:**\n",
    "\n",
    "```python\n",
    "class Isoentropic:\n",
    "    def __init__(self, p, T, p0, T0, z0z, R, g):\n",
    "        ...\n",
    "    \n",
    "    def __call__(self, X):\n",
    "        ...\n",
    "```\n",
    "\n",
    "Che calcoli (nel metodo `__call__`) il valore della funzione da azzerare\n",
    "\n",
    "* Si assuma che `X` contenga nell'ordine $\\gamma$ ed $M$\n",
    "\n",
    "**Si collaudi la funzione nella cella seguente**"
   ]
  },
  {
   "cell_type": "code",
   "execution_count": 5,
   "metadata": {},
   "outputs": [],
   "source": [
    "x0 = [1.3, 18]"
   ]
  },
  {
   "cell_type": "code",
   "execution_count": 10,
   "metadata": {},
   "outputs": [
    {
     "data": {
      "text/plain": [
       "(0.19513931231917697, 11.7363787836712)"
      ]
     },
     "execution_count": 10,
     "metadata": {},
     "output_type": "execute_result"
    }
   ],
   "source": [
    "from sol2 import isoentropic\n",
    "\n",
    "f = isoentropic.Isoentropic(p, T, p0, T0, z0z, R, g)\n",
    "f(x0)"
   ]
  },
  {
   "cell_type": "markdown",
   "metadata": {},
   "source": [
    "## Soluzione del Sistema\n",
    "\n",
    "**Nel modulo `sol.isoentropic` si definisca la funzione**\n",
    "\n",
    "```python\n",
    "def find_sol(p, T, p0, T0, z0z, R, g):\n",
    "    x0 = [1.3, 18]\n",
    "    ...\n",
    "```\n",
    "\n",
    "...Che trovi una soluzione per l'equazione utilizzando la funzione `fsolve` di `scipy`\n",
    "\n",
    "* La funzione deve restituire il valore della soluzione\n",
    "* ...O `None` in caso di problemi di convergenza\n",
    "\n",
    "Si consideri la convergenza raggiunta se:\n",
    "\n",
    "$$\\max(|f(x_{sol})|) \\leq 10^{-6}$$\n",
    "\n",
    "**Si utilizzi la funzione nella cella seguente**"
   ]
  },
  {
   "cell_type": "code",
   "execution_count": 14,
   "metadata": {},
   "outputs": [
    {
     "data": {
      "text/plain": [
       "array([ 1.45729891, 10.06906916])"
      ]
     },
     "execution_count": 14,
     "metadata": {},
     "output_type": "execute_result"
    }
   ],
   "source": [
    "isoentropic.find_sol(p, T, p0, T0, z0z, R, g)"
   ]
  }
 ],
 "metadata": {
  "celltoolbar": "Slideshow",
  "kernelspec": {
   "display_name": "Python 3 (ipykernel)",
   "language": "python",
   "name": "python3"
  },
  "language_info": {
   "codemirror_mode": {
    "name": "ipython",
    "version": 3
   },
   "file_extension": ".py",
   "mimetype": "text/x-python",
   "name": "python",
   "nbconvert_exporter": "python",
   "pygments_lexer": "ipython3",
   "version": "3.11.8"
  },
  "rise": {
   "center": false,
   "enable_chalkboard": true,
   "transition": "fade"
  }
 },
 "nbformat": 4,
 "nbformat_minor": 4
}
