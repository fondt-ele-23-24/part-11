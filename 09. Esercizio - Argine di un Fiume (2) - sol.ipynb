{
 "cells": [
  {
   "cell_type": "code",
   "execution_count": 1,
   "metadata": {
    "slideshow": {
     "slide_type": "skip"
    }
   },
   "outputs": [],
   "source": [
    "%load_ext autoreload\n",
    "%autoreload 2"
   ]
  },
  {
   "cell_type": "markdown",
   "metadata": {
    "slideshow": {
     "slide_type": "subslide"
    }
   },
   "source": [
    "## Esercizio: Argine di un Fiume (2)\n",
    "\n",
    "**Consideriamo di nuovo l'esempio di costruzione di un argine**\n",
    "\n",
    "<center>\n",
    "<img src=\"assets/river_bank2.png\" width=40%/>\n",
    "</center>\n",
    "\n",
    "Come in precedenza:\n",
    "\n",
    "* Alle ascisse abbiamo una posizione orizzontale $x$\n",
    "* Alle ordinate abbiamo l'altezza $y$"
   ]
  },
  {
   "cell_type": "markdown",
   "metadata": {
    "slideshow": {
     "slide_type": "subslide"
    }
   },
   "source": [
    "**L'argine deve:**\n",
    "\n",
    "* Essere definito da una curva parabolica $f$\n",
    "* Toccare il fiume in una posizione nota $(x_0, y_0)$\n",
    "* Toccare la strada in un punto $(x_1, y_1)$...\n",
    "* ...Di cui _non è nota la coordinata $x_1$_\n",
    "* Raggiungere l'altezza massima $y_{max}$ in un punto non noto $x_m$\n",
    "* Avere una superficie complessiva pari a $s$, data da:\n",
    "\n",
    "$$S = \\int_{x_0}^{x_1} f(x) \\, dx$$\n",
    "\n",
    "Dove possiamo assumere $x_0 = 0$"
   ]
  },
  {
   "cell_type": "markdown",
   "metadata": {
    "slideshow": {
     "slide_type": "subslide"
    }
   },
   "source": [
    "**Possiamo formalizzare le condizioni come:**\n",
    "\n",
    "\\begin{align}\n",
    "\\alpha_2 x_0^2 + \\alpha_1 x_0 + \\alpha_0 - y_0 &= 0\\\\\n",
    "\\alpha_2 x_1^2 + \\alpha_1 x_1 + \\alpha_0 - y_1 &= 0\\\\\n",
    "2 \\alpha_2 x_m + \\alpha_1 &= 0 \\\\\n",
    "\\alpha_2 x_m^2 + \\alpha_1 x_m + \\alpha_0 - y_{max} &= 0 \\\\\n",
    "\\frac{1}{3} \\alpha x_1^3 + \\frac{1}{2} \\alpha_1 x_1^2 + \\alpha_0 x_1 - S &= 0\n",
    "\\end{align}\n",
    "\n",
    "* Le variabili sono $\\alpha_2, \\alpha_1, \\alpha_0, x_1, x_m$\n",
    "* Ci sono delle _espressioni non lineari_"
   ]
  },
  {
   "cell_type": "markdown",
   "metadata": {
    "slideshow": {
     "slide_type": "subslide"
    }
   },
   "source": [
    "## Dati del Problema\n",
    "\n",
    "**Prima di tutto si carichino i dati del problema eseguendo la cella seguente:**"
   ]
  },
  {
   "cell_type": "code",
   "execution_count": 2,
   "metadata": {},
   "outputs": [],
   "source": [
    "# Dati del problem\n",
    "x0 = 0\n",
    "y0 = 0\n",
    "y1 = 0\n",
    "ymax = 3\n",
    "s = 10.5"
   ]
  },
  {
   "cell_type": "markdown",
   "metadata": {
    "slideshow": {
     "slide_type": "subslide"
    }
   },
   "source": [
    "## Funzione da Azzerare\n",
    "\n",
    "**Nel modulo `sol.riverbank2` si definisca la classe:**\n",
    "\n",
    "```python\n",
    "class Riverbank:\n",
    "    def __init__(self, x0, y0, y1, ymax, s):\n",
    "        ...\n",
    "    \n",
    "    def __call__(self, X):\n",
    "        ...\n",
    "```\n",
    "\n",
    "Che calcoli (nel metodo `__call__`) il valore della funzione da azzerare\n",
    "\n",
    "**Si collaudi la funzione nella cella seguente**"
   ]
  },
  {
   "cell_type": "code",
   "execution_count": 3,
   "metadata": {},
   "outputs": [
    {
     "name": "stdout",
     "output_type": "stream",
     "text": [
      "f([-1, 1, 0, 3, 6]) = [  0.  -6. -11. -33. -15.]\n"
     ]
    }
   ],
   "source": [
    "from sol import riverbank2\n",
    "\n",
    "X0 = [-1, 1, 0, 3, 6]\n",
    "\n",
    "f = riverbank2.Riverbank(x0, y0, y1, ymax, s)\n",
    "print(f'f({X0}) = {f(X0)}')"
   ]
  },
  {
   "cell_type": "markdown",
   "metadata": {},
   "source": [
    "## Soluzione del Sistema\n",
    "\n",
    "**Nel modulo `sol.riverbank2` si definisca la funzione**\n",
    "\n",
    "```python\n",
    "def find_sol(x0, y0, y1, ymax, s):\n",
    "    ...\n",
    "```\n",
    "\n",
    "...Che trovi una soluzione per l'equazione utilizzando la funzione `fsolve` di `scipy`\n",
    "\n",
    "* La funzione deve restituire il valore della soluzione\n",
    "* ...O `None` in caso di problemi di convergenza\n",
    "\n",
    "Si consideri la convergenza raggiunta se:\n",
    "\n",
    "$$\\max(|f(x_{sol})|) \\leq 10^{-6}$$\n",
    "\n",
    "**Si utilizzi la funzione nella cella seguente**"
   ]
  },
  {
   "cell_type": "code",
   "execution_count": 4,
   "metadata": {},
   "outputs": [
    {
     "name": "stdout",
     "output_type": "stream",
     "text": [
      "a2: -0.4353741496598573, a1: 2.285714285713325, a0: 5.91769671060817e-27, x1: 5.249999999999946, xm: 2.624999999999213\n"
     ]
    }
   ],
   "source": [
    "res = riverbank2.find_sol(x0, y0, y1, ymax, s)\n",
    "\n",
    "if res is not None:\n",
    "    a2, a1, a0, x1, xm = res\n",
    "    print(f'a2: {a2}, a1: {a1}, a0: {a0}, x1: {x1}, xm: {xm}')\n",
    "else:\n",
    "    print('Problemi di convergenza')"
   ]
  }
 ],
 "metadata": {
  "celltoolbar": "Slideshow",
  "kernelspec": {
   "display_name": "Python 3 (ipykernel)",
   "language": "python",
   "name": "python3"
  },
  "language_info": {
   "codemirror_mode": {
    "name": "ipython",
    "version": 3
   },
   "file_extension": ".py",
   "mimetype": "text/x-python",
   "name": "python",
   "nbconvert_exporter": "python",
   "pygments_lexer": "ipython3",
   "version": "3.10.10"
  },
  "rise": {
   "center": false,
   "enable_chalkboard": true,
   "transition": "fade"
  }
 },
 "nbformat": 4,
 "nbformat_minor": 4
}
