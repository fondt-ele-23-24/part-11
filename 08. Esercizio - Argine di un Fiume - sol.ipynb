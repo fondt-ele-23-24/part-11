{
 "cells": [
  {
   "cell_type": "code",
   "execution_count": 1,
   "metadata": {
    "slideshow": {
     "slide_type": "skip"
    }
   },
   "outputs": [],
   "source": [
    "%load_ext autoreload\n",
    "%autoreload 2"
   ]
  },
  {
   "cell_type": "markdown",
   "metadata": {
    "slideshow": {
     "slide_type": "subslide"
    }
   },
   "source": [
    "## Esercizio: Argine di un Fiume\n",
    "\n",
    "**Supponiamo di dover progettare l'argine di un fiume**\n",
    "\n",
    "<center>\n",
    "<img src=\"assets/river_bank.png\" width=40%/>\n",
    "</center>\n",
    "\n",
    "* Alle ascisse abbiamo una posizione orizzontale $x$\n",
    "* Alle ordinate abbiamo l'altezza $y$"
   ]
  },
  {
   "cell_type": "markdown",
   "metadata": {
    "slideshow": {
     "slide_type": "subslide"
    }
   },
   "source": [
    "**L'argine deve:**\n",
    "\n",
    "* Essere definito da una _curva parabolica_\n",
    "* Toccare il fiume in una posizione nota $(x_0, y_0)$\n",
    "* Raggiungere il livello della strada nel punto $(x_1, y_1)$\n",
    "* Raggiungere l'altezza massima $y_{max}$\n",
    "* ...In un punto di coordinata $x_2$ _non nota_\n",
    "\n",
    "**Di fatto, si tratta di progettare/tracciare una curva**\n",
    "\n",
    "* Allora possiamo provare a risolverlo...\n",
    "* ...Impostando un insieme di equazioni"
   ]
  },
  {
   "cell_type": "markdown",
   "metadata": {
    "slideshow": {
     "slide_type": "subslide"
    }
   },
   "source": [
    "**Proviamo a formulare equazioni per le condizioni da rispettare:**\n",
    "\n",
    "* La curva deve passare per il punto $(x_0, y_0)$ e $(x_1, y_1)$:\n",
    "\n",
    "$$\\begin{align}\n",
    "  \\alpha_2 x_0^2 + \\alpha_1 x_0 + \\alpha_0 &= y_0 \\\\\n",
    "\\alpha_2 x_1^2 + \\alpha_1 x_1 + \\alpha_0 0 &= y_1\n",
    "\\end{align}$$\n",
    "\n",
    "* La curva _raggiungerà il max nel punto $x_2$ in cui la derivata si annulla_:\n",
    "\n",
    "$$2 \\alpha_2 x_2 + \\alpha_1 = 0$$\n",
    "\n",
    "* _In corrispondenza di $x_2$_, l'altezza dovrà essere $y_{max}$:\n",
    "\n",
    "$$\\alpha_2 x_2^2 + \\alpha_1 x_2 + \\alpha_0 = y_{max}$$\n"
   ]
  },
  {
   "cell_type": "markdown",
   "metadata": {
    "slideshow": {
     "slide_type": "subslide"
    }
   },
   "source": [
    "**Nel complesso, abbiamo:**\n",
    "\n",
    "\\begin{align}\n",
    "\\alpha_2 x_0^2 + \\alpha_1 x_0 + \\alpha_0 - y_0 &= 0\\\\\n",
    "\\alpha_2 x_1^2 + \\alpha_1 x_1 + \\alpha_0 - y_1 &= 0\\\\\n",
    "2 \\alpha_2 x_2 + \\alpha_1 &= 0 \\\\\n",
    "\\alpha_2 x_2^2 + \\alpha_1 x_2 + \\alpha_0 - y_{max} &= 0\n",
    "\\end{align}\n",
    "\n",
    "* Le variabili sono $\\alpha_2, \\alpha_1, \\alpha_0$, _ma anche $x_2$_\n",
    "* Ci sono delle _espressioni non lineari_, i.e. $\\alpha_2 x_2, \\alpha_2 x_2^2, \\alpha_1 x_2$\n",
    "\n",
    "In sostanza, abbiamo un _sistema di equazioni non lineari_\n",
    "\n",
    "* Quindi, _non possiamo_ impostare il problema in forma matriciale\n",
    "* ...Ma possiamo usare (e.g.) `fsolve`! "
   ]
  },
  {
   "cell_type": "markdown",
   "metadata": {
    "slideshow": {
     "slide_type": "subslide"
    }
   },
   "source": [
    "## Dati del Problema\n",
    "\n",
    "**Prima di tutto si carichino i dati del problema eseguendo la cella seguente:**"
   ]
  },
  {
   "cell_type": "code",
   "execution_count": 2,
   "metadata": {},
   "outputs": [],
   "source": [
    "# Dati del problem\n",
    "x0 = 0\n",
    "x1 = 7\n",
    "y0 = 0\n",
    "y1 = 2\n",
    "ymax = 5"
   ]
  },
  {
   "cell_type": "markdown",
   "metadata": {
    "slideshow": {
     "slide_type": "subslide"
    }
   },
   "source": [
    "## Funzione da Azzerare\n",
    "\n",
    "**Nel modulo `sol.riverbank` si definisca la classe:**\n",
    "\n",
    "```python\n",
    "class Riverbank:\n",
    "    def __init__(self, x0, x1, y0, y1, ymax):\n",
    "        ...\n",
    "    \n",
    "    def __call__(self, X):\n",
    "        ...\n",
    "```\n",
    "\n",
    "Che calcoli (nel metodo `__call__`) il valore della funzione da azzerare\n",
    "\n",
    "**Si collaudi la funzione nella cella seguente**"
   ]
  },
  {
   "cell_type": "code",
   "execution_count": 3,
   "metadata": {},
   "outputs": [
    {
     "name": "stdout",
     "output_type": "stream",
     "text": [
      "f([-1, 1, 0, 3]) = [  0 -44  -5 -11]\n"
     ]
    }
   ],
   "source": [
    "from sol import riverbank\n",
    "\n",
    "X0 = [-1, 1, 0, 3]\n",
    "\n",
    "f = riverbank.Riverbank(x0, x1, y0, y1, ymax)\n",
    "print(f'f({X0}) = {f(X0)}')"
   ]
  },
  {
   "cell_type": "markdown",
   "metadata": {},
   "source": [
    "## Soluzione del Sistema\n",
    "\n",
    "**Nel modulo `sol.riverbank` si definisca la funzione**\n",
    "\n",
    "```python\n",
    "def find_sol(x0, x1, y0, y1, ymax):\n",
    "    ...\n",
    "```\n",
    "\n",
    "...Che trovi una soluzione per l'equazione utilizzando la funzione `fsolve` di `scipy`\n",
    "\n",
    "* La funzione deve restituire il valore della soluzione\n",
    "* ...O `None` in caso di problemi di convergenza\n",
    "\n",
    "Si consideri la convergenza raggiunta se:\n",
    "\n",
    "$$\\max(|f(x_{sol})|) \\leq 10^{-6}$$\n",
    "\n",
    "**Si utilizzi la funzione nella cella seguente**"
   ]
  },
  {
   "cell_type": "code",
   "execution_count": 13,
   "metadata": {},
   "outputs": [
    {
     "name": "stdout",
     "output_type": "stream",
     "text": [
      "a2: -0.3213462590314034, a1: 2.5351380989341097, a0: 4.2173986273803427e-26, x2: 3.944558288269053\n"
     ]
    }
   ],
   "source": [
    "res = riverbank.find_sol(x0, x1, y0, y1, ymax)\n",
    "\n",
    "if res is not None:\n",
    "    a2, a1, a0, x2 = res\n",
    "    print(f'a2: {a2}, a1: {a1}, a0: {a0}, x2: {x2}')\n",
    "else:\n",
    "    print('Problemi di convergenza')"
   ]
  }
 ],
 "metadata": {
  "celltoolbar": "Slideshow",
  "kernelspec": {
   "display_name": "Python 3 (ipykernel)",
   "language": "python",
   "name": "python3"
  },
  "language_info": {
   "codemirror_mode": {
    "name": "ipython",
    "version": 3
   },
   "file_extension": ".py",
   "mimetype": "text/x-python",
   "name": "python",
   "nbconvert_exporter": "python",
   "pygments_lexer": "ipython3",
   "version": "3.10.10"
  },
  "rise": {
   "center": false,
   "enable_chalkboard": true,
   "transition": "fade"
  }
 },
 "nbformat": 4,
 "nbformat_minor": 4
}
