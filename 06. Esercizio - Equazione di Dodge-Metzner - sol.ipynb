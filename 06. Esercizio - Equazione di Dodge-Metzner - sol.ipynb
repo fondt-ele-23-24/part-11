{
 "cells": [
  {
   "cell_type": "code",
   "execution_count": 1,
   "metadata": {
    "slideshow": {
     "slide_type": "skip"
    }
   },
   "outputs": [],
   "source": [
    "%load_ext autoreload\n",
    "%autoreload 2"
   ]
  },
  {
   "cell_type": "markdown",
   "metadata": {
    "slideshow": {
     "slide_type": "subslide"
    }
   },
   "source": [
    "## Esercizio: Equazione di Dodge-Metzner\n",
    "\n",
    "**Consideriamo un fluido di potenza (dilatante o pseudoplastico)**\n",
    "\n",
    "* Se il fluido è in moto turbolento, il fattore di attrito $f$ in una condotta\n",
    "* ...è definito dalla seguente relazione (Dodge-Metzner):\n",
    "\n",
    "$$\\frac{1}{\\sqrt{f}} = \\frac{4}{n^{0.75}} \\log\\left(Re_{pl} f^{1 - n/2}\\right) - \\frac{0.4}{n^{1.2}}$$\n",
    "\n",
    "* Dove $n$ è un parametro che caratterizza il fluido\n",
    "* $Re_{pl}$ è un numero di Reynolds modificato"
   ]
  },
  {
   "cell_type": "markdown",
   "metadata": {
    "slideshow": {
     "slide_type": "subslide"
    }
   },
   "source": [
    "**Vogliamo utilizzare la relazione per calcolare il valore di $f$**\n",
    "\n",
    "* Si supponga che i valori di $Re_{pl}$ e $n$ siano noti\n",
    "* Allora possiamo determinare $f$ risolvendo l'equazione:\n",
    "\n",
    "$$\\frac{1}{\\sqrt{f}} - \\frac{4}{n^{0.75}} \\log\\left(Re_{pl} f^{1 - n/2}\\right) + \\frac{0.4}{n^{1.2}} = 0$$"
   ]
  },
  {
   "cell_type": "markdown",
   "metadata": {
    "slideshow": {
     "slide_type": "subslide"
    }
   },
   "source": [
    "## Dati del Problema\n",
    "\n",
    "**Prima di tutto si carichino i dati del problema eseguendo la cella seguente:**"
   ]
  },
  {
   "cell_type": "code",
   "execution_count": 2,
   "metadata": {},
   "outputs": [],
   "source": [
    "# Dati del problem\n",
    "Re_pl = 4300\n",
    "n = 0.4"
   ]
  },
  {
   "cell_type": "markdown",
   "metadata": {
    "slideshow": {
     "slide_type": "subslide"
    }
   },
   "source": [
    "## Funzione da Azzerare\n",
    "\n",
    "**Nel modulo `sol.dm` si definisca la classe:**\n",
    "\n",
    "```python\n",
    "class DodgeMetzner:\n",
    "    def __init__(self, Re_pl, n):\n",
    "        ...\n",
    "    \n",
    "    def __call__(self, f):\n",
    "        ...\n",
    "```\n",
    "\n",
    "Che calcoli (nel metodo `__call__`) il valore della funzione da azzerare\n",
    "\n",
    "**Si collaudi la funzione nella cella seguente**"
   ]
  },
  {
   "cell_type": "code",
   "execution_count": 3,
   "metadata": {},
   "outputs": [],
   "source": [
    "from sol import dm\n",
    "\n",
    "x0 = 0.0010"
   ]
  },
  {
   "cell_type": "markdown",
   "metadata": {
    "slideshow": {
     "slide_type": "subslide"
    }
   },
   "source": [
    "## Grafico della Funzione\n",
    "\n",
    "**Si disegni il grafico della funzione**\n",
    "\n",
    "...Utilizzando `base.util.plot_univariate_function`"
   ]
  },
  {
   "cell_type": "code",
   "execution_count": 5,
   "metadata": {},
   "outputs": [],
   "source": [
    "import numpy as np\n",
    "from base import util\n",
    "\n",
    "# Dati per il disegno\n",
    "x = np.linspace(0.001, 0.003)"
   ]
  },
  {
   "cell_type": "markdown",
   "metadata": {},
   "source": [
    "## Soluzione dell'Equazione\n",
    "\n",
    "**Nel modulo `sol.dm` si definisca la funzione**\n",
    "\n",
    "```python\n",
    "def find_sol(Re_pl, n):\n",
    "    ...\n",
    "```\n",
    "\n",
    "...Che trovi una soluzione per l'equazione utilizzando la funzione `brentq` di `scipy`\n",
    "\n",
    "* La funzione deve restituire il valore della soluzione\n",
    "\n",
    "**Si utilizzi la funzione nella cella seguente**"
   ]
  },
  {
   "cell_type": "code",
   "execution_count": null,
   "metadata": {},
   "outputs": [],
   "source": []
  }
 ],
 "metadata": {
  "celltoolbar": "Slideshow",
  "kernelspec": {
   "display_name": "Python 3 (ipykernel)",
   "language": "python",
   "name": "python3"
  },
  "language_info": {
   "codemirror_mode": {
    "name": "ipython",
    "version": 3
   },
   "file_extension": ".py",
   "mimetype": "text/x-python",
   "name": "python",
   "nbconvert_exporter": "python",
   "pygments_lexer": "ipython3",
   "version": "3.10.10"
  },
  "rise": {
   "center": false,
   "enable_chalkboard": true,
   "transition": "fade"
  }
 },
 "nbformat": 4,
 "nbformat_minor": 4
}
