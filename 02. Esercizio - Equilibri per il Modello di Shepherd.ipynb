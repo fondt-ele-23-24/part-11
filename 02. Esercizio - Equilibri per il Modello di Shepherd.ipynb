{
 "cells": [
  {
   "cell_type": "code",
   "execution_count": 1,
   "metadata": {
    "slideshow": {
     "slide_type": "skip"
    }
   },
   "outputs": [],
   "source": [
    "%load_ext autoreload\n",
    "%autoreload 2"
   ]
  },
  {
   "cell_type": "markdown",
   "metadata": {
    "slideshow": {
     "slide_type": "subslide"
    }
   },
   "source": [
    "## Esercizio: Equilibri per Shepherd\n",
    "\n",
    "**Si consideri il modello di Shepherd:**\n",
    "\n",
    "$$x_{k+1} = \\frac{r x_{k}}{1 + \\left(\\frac{x_{k}}{N}\\right)^2 }$$\n",
    "\n",
    "Dove:\n",
    "\n",
    "* $x^{(k)}$ è il numero di individui al passo $k$-mo\n",
    "* $r$ è un tasso di crescita\n",
    "* $N$ è il valore di popolazione per il cui $r$ dimezza"
   ]
  },
  {
   "cell_type": "markdown",
   "metadata": {
    "slideshow": {
     "slide_type": "subslide"
    }
   },
   "source": [
    "**I punti di equilibrio del modello**\n",
    "\n",
    "...Possono essere individuati risolvendo:\n",
    "\n",
    "$$x - \\frac{r x}{1 + \\left(\\frac{x}{N}\\right)^2 } = 0$$\n",
    "\n",
    "* L'equazione è risolvibile per via simbolica\n",
    "* ...Ma è qui richiesta una soluzione per via numerica"
   ]
  },
  {
   "cell_type": "markdown",
   "metadata": {
    "slideshow": {
     "slide_type": "subslide"
    }
   },
   "source": [
    "## Caricamento dei dati\n",
    "\n",
    "**Prima di tutto si carichino i dati del problema eseguendo la cella seguente:**"
   ]
  },
  {
   "cell_type": "code",
   "execution_count": 2,
   "metadata": {},
   "outputs": [],
   "source": [
    "# Dati del problem\n",
    "r = 1.72\n",
    "N = 1"
   ]
  },
  {
   "cell_type": "markdown",
   "metadata": {
    "slideshow": {
     "slide_type": "subslide"
    }
   },
   "source": [
    "## Funzione da Azzerare\n",
    "\n",
    "**Nel modulo `sol.shepherd` si definisca la classe:**\n",
    "\n",
    "```python\n",
    "class ShepherEq:\n",
    "    def __init__(self, r=1, N=1):\n",
    "        ...\n",
    "    \n",
    "    def __call__(self, x):\n",
    "        ...\n",
    "```\n",
    "\n",
    "Che calcoli (nel metodo `__call__`) il valore della funzione da azzerare\n",
    "\n",
    "**Si collaudi la funzione nella cella seguente**"
   ]
  },
  {
   "cell_type": "code",
   "execution_count": 3,
   "metadata": {},
   "outputs": [],
   "source": [
    "# Dati per il collaudo\n",
    "x0 = 0.5"
   ]
  },
  {
   "cell_type": "markdown",
   "metadata": {
    "slideshow": {
     "slide_type": "subslide"
    }
   },
   "source": [
    "## Grafico della Funzione\n",
    "\n",
    "**Si disegni il grafico della funzione**\n",
    "\n",
    "...Utilizzando `base.util.plot_univariate_function`"
   ]
  },
  {
   "cell_type": "code",
   "execution_count": 4,
   "metadata": {},
   "outputs": [],
   "source": [
    "import numpy as np\n",
    "\n",
    "# Dati per il disegno\n",
    "x = np.linspace(-0.1, 1.1)"
   ]
  },
  {
   "cell_type": "markdown",
   "metadata": {},
   "source": [
    "## Punti di Equilibrio\n",
    "\n",
    "**Nel modulo `sol.shepherd` si definisca la funzione**\n",
    "\n",
    "```python\n",
    "def find_eq(r, N, a, b):\n",
    "    ...\n",
    "```\n",
    "\n",
    "...Che individui un punto di equilibrio compreso tra $a$ e $b$\n",
    "\n",
    "* ...Utilizzando la funzione `brentq` di `scipy`\n",
    "* La funzione deve restituire il valore del punto di equilibrio\n",
    "\n",
    "**Si utilizzi la funzione per individuare i _due_ punti di equilibrio del modello**"
   ]
  },
  {
   "cell_type": "code",
   "execution_count": null,
   "metadata": {},
   "outputs": [],
   "source": []
  }
 ],
 "metadata": {
  "celltoolbar": "Slideshow",
  "kernelspec": {
   "display_name": "Python 3 (ipykernel)",
   "language": "python",
   "name": "python3"
  },
  "language_info": {
   "codemirror_mode": {
    "name": "ipython",
    "version": 3
   },
   "file_extension": ".py",
   "mimetype": "text/x-python",
   "name": "python",
   "nbconvert_exporter": "python",
   "pygments_lexer": "ipython3",
   "version": "3.11.8"
  },
  "rise": {
   "center": false,
   "enable_chalkboard": true,
   "transition": "fade"
  }
 },
 "nbformat": 4,
 "nbformat_minor": 4
}
